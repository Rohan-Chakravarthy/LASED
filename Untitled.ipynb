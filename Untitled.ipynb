{
 "cells": [
  {
   "cell_type": "markdown",
   "id": "3cceddc1-c441-4619-82b1-c3dc6eda9575",
   "metadata": {},
   "source": [
    "# Rubidium-87 D Line"
   ]
  },
  {
   "cell_type": "markdown",
   "id": "b007003a-d794-418b-9183-12018aad50a6",
   "metadata": {},
   "source": [
    "Rubidium is a heavy atom with hyperfine structure. Modelling of the Rb<sup>87</sup> D line is shown in this notebook using the `LASED` library."
   ]
  }
 ],
 "metadata": {
  "kernelspec": {
   "display_name": "Python 3",
   "language": "python",
   "name": "python3"
  },
  "language_info": {
   "codemirror_mode": {
    "name": "ipython",
    "version": 3
   },
   "file_extension": ".py",
   "mimetype": "text/x-python",
   "name": "python",
   "nbconvert_exporter": "python",
   "pygments_lexer": "ipython3",
   "version": "3.8.8"
  }
 },
 "nbformat": 4,
 "nbformat_minor": 5
}
