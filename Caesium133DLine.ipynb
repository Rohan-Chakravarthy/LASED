{
 "cells": [
  {
   "cell_type": "markdown",
   "id": "3cceddc1-c441-4619-82b1-c3dc6eda9575",
   "metadata": {},
   "source": [
    "# Caesium-133 D Line"
   ]
  },
  {
   "cell_type": "markdown",
   "id": "b007003a-d794-418b-9183-12018aad50a6",
   "metadata": {},
   "source": [
    "Rubidium is a heavy atom with hyperfine structure. Modelling of the Rb<sup>85</sup> D line is shown in this notebook using the `LASED` library. The calculations will be compared with J.Pursehouse's PhD thesis as he modelled the same system."
   ]
  },
  {
   "cell_type": "code",
   "execution_count": 1,
   "id": "d6b9dd6b-a3da-4e03-b7cd-1befb1e37474",
   "metadata": {
    "tags": []
   },
   "outputs": [],
   "source": [
    "%run \"base-LASED/LASED/laser_atom_system.py\"\n",
    "%run \"base-LASED/LASED/time_evolution.py\"\n",
    "%run \"base-LASED/LASED/generate_sub_states.py\"\n",
    "\n",
    "import plotly.graph_objects as go\n",
    "import time"
   ]
  },
  {
   "cell_type": "markdown",
   "id": "78cec1f1-3624-4c3a-b766-5bfdf9cb0a28",
   "metadata": {},
   "source": [
    "The data for Rubidium can be accessed [here](https://ethos.bl.uk/OrderDetails.do?uin=uk.bl.ethos.740344). The 5$^2$S$_{1/2}$ to the 5$^2$P$_{3/2}$ transition will be modelled here with F' = 3 to the F = 4 level as the resonant transition and all other terms will be detuned from this resonance. A level diagram of the system is shown below:"
   ]
  },
  {
   "cell_type": "code",
   "execution_count": 2,
   "id": "45b56de8-2a57-4959-8411-47533c277ed2",
   "metadata": {},
   "outputs": [],
   "source": [
    "from IPython.display import Image\n",
    "#Image(filename = \"LevelDiagrams/Rb-85-5S1_2to5P3_2.jpg\")"
   ]
  },
  {
   "cell_type": "code",
   "execution_count": 3,
   "id": "e869e6c7-28b7-4f7f-83b9-140929a0e9e3",
   "metadata": {},
   "outputs": [],
   "source": [
    "# 6^2S_{1/2} -> 6^2P_{3/2}\n",
    "wavelength_cs = 852.356e-9  # Wavelength in nm\n",
    "w_e = te.angularFreq(wavelength_cs)\n",
    "tau_cs = 30.473 # in ns\n",
    "\n",
    "I_cs = 7/2  # Isospin for sodium \n",
    "\n",
    "# Energy Splittings\n",
    "w1 = 9.192631770*2*PI # Splitting of 6^2S_{1/2}(F' = 3) -> (F' = 4) in Grad/s (Exact due to definition of the second)\n",
    "w2 = 0.15121*2*PI  # Splitting between 6^2P_{3/2} F = 2 and F = 3 in Grad/s\n",
    "w3 = 0.20124*2*PI  # Splitting between 6^2P_{3/2} F = 3 and F = 4 in Grad/s\n",
    "w4 = 0.251*2*PI  # Splitting between 6^2P_{3/2} F = 4 and F = 5 in Grad/s\n",
    "\n",
    "# Detunings\n",
    "w_Fp3 = -1*w1\n",
    "w_F2 = w_e-(w4+w3+w2)\n",
    "w_F3 = w_e-(w4+w3)\n",
    "w_F4 = w_e-w4\n",
    "w_F5 = w_e\n",
    "\n",
    "# Create states \n",
    "# 6^2S_{1/2}\n",
    "Fp3 = generateSubStates(label_from = 1, w = w_Fp3, L = 0, S = 1/2, I = I_cs, F = 3)\n",
    "Fp4 = generateSubStates(label_from = 8, w = 0, L = 0, S = 1/2, I = I_cs, F = 4)\n",
    "\n",
    "# 5^2P_{3/2}\n",
    "F2 = generateSubStates(label_from = 17, w = w_F2, L = 1, S = 1/2, I = I_cs, F = 2)\n",
    "F3 = generateSubStates(label_from = 22, w = w_F3, L = 1, S = 1/2, I = I_cs, F = 3)\n",
    "F4 = generateSubStates(label_from = 29, w = w_F4, L = 1, S = 1/2, I = I_cs, F = 4)\n",
    "F5 = generateSubStates(label_from = 38, w = w_F5, L = 1, S = 1/2, I = I_cs, F = 5)\n",
    "\n",
    "# Declare excited and ground states\n",
    "G_cs = Fp3 + Fp4\n",
    "E_cs = F2 + F3 + F4 + F5\n",
    "\n",
    "# Laser parameters\n",
    "intensity_cs = 50 # mW/mm^-2\n",
    "Q_cs = [0]\n",
    "Q_decay = [1, 0, -1]\n",
    "\n",
    "# Simulation parameters\n",
    "start_time = 0\n",
    "stop_time = 500 # in ns\n",
    "time_steps = 501\n",
    "time_cs = np.linspace(start_time, stop_time, time_steps)"
   ]
  },
  {
   "cell_type": "markdown",
   "id": "4a5d5d39-422d-4515-860b-205e70c86480",
   "metadata": {},
   "source": [
    "Create a `LaserAtomSystem` object and time evolve the system using `timeEvolution()`"
   ]
  },
  {
   "cell_type": "code",
   "execution_count": null,
   "id": "e8c7131d-2e0f-4ec1-93a5-9dac4ac4e265",
   "metadata": {},
   "outputs": [
    {
     "name": "stdout",
     "output_type": "stream",
     "text": [
      "Populating ground states equally as the initial condition.\n"
     ]
    }
   ],
   "source": [
    "cs_system = LaserAtomSystem(E_cs, G_cs, tau_cs, Q_cs, wavelength_cs, laser_intensity = intensity_cs)\n",
    "tic = time.perf_counter()\n",
    "cs_system.timeEvolution(time_cs)\n",
    "toc = time.perf_counter()\n",
    "print(f\"The code finished in {toc-tic:0.4f} seconds\")"
   ]
  },
  {
   "cell_type": "markdown",
   "id": "ef94336a-ecc1-4025-85db-33345ec53d7d",
   "metadata": {},
   "source": [
    "Now plot the results"
   ]
  },
  {
   "cell_type": "code",
   "execution_count": null,
   "id": "6b7306b0-277b-4656-be9c-e564fbe94dc5",
   "metadata": {},
   "outputs": [],
   "source": [
    "rho_to_plot = [ [abs(rho) for rho in cs_system.Rho_t(s, s)] for s in F5]\n",
    "\n",
    "fig_csF5 = go.Figure()\n",
    "\n",
    "for i, rho in enumerate(rho_to_plot):\n",
    "    fig_csF5.add_trace(go.Scatter(x = time_cs, \n",
    "                                y = rho,\n",
    "                                name = f\"m_F = {F5[i].m}\",\n",
    "                               mode = 'lines'))\n",
    "\n",
    "fig_rbF4.update_layout(title = \"<sup>133</sup>Caesium 6sup>2</sup>S<sub>1/2</sub> to 6<sup>2</sup>P<sub>3/2</sub> π-Excitation: Time Evolution of Population in the F = 5 Sub-states\",\n",
    "                 xaxis_title = \"Time (ns)\",\n",
    "                 yaxis_title = \"Population\",\n",
    "                font = dict(\n",
    "                    size = 11))\n",
    "fig_rbF4.write_image(\"CsF=5I=50.pdf\")\n",
    "fig_rbF4.show()"
   ]
  }
 ],
 "metadata": {
  "kernelspec": {
   "display_name": "Python 3",
   "language": "python",
   "name": "python3"
  },
  "language_info": {
   "codemirror_mode": {
    "name": "ipython",
    "version": 3
   },
   "file_extension": ".py",
   "mimetype": "text/x-python",
   "name": "python",
   "nbconvert_exporter": "python",
   "pygments_lexer": "ipython3",
   "version": "3.8.8"
  }
 },
 "nbformat": 4,
 "nbformat_minor": 5
}
