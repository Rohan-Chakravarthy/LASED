{
 "cells": [
  {
   "cell_type": "markdown",
   "metadata": {},
   "source": [
    "# LASED Example Notebook\n",
    "\n",
    "This is a notebook to demonstrate how to use LASED. LASED stands for Laser-Atom interaction Simulator using quantum ElectroDynamics. An atomic level system is built, laser parameters are defined, and a the laser-atomic system dynamics are simulated. "
   ]
  },
  {
   "cell_type": "code",
   "execution_count": 1,
   "metadata": {},
   "outputs": [],
   "source": [
    "%run \"base-LASED/LASED/time_evolution.py\"\n",
    "%run \"base-LASED/LASED/rotation.py\"\n",
    "\n",
    "import plotly.graph_objects as go"
   ]
  },
  {
   "cell_type": "markdown",
   "metadata": {},
   "source": [
    "## Setting up the system\n",
    "\n",
    "To set up a Laser-Atom system you must first declare the atomic states which you want to work with and label them.\n",
    "\n",
    "Then, you must put the states into either the ground or excited states which the laser couples to.\n",
    "\n",
    "Then, all other laser parameters must be input."
   ]
  },
  {
   "cell_type": "code",
   "execution_count": 2,
   "metadata": {},
   "outputs": [],
   "source": [
    "# System parameters\n",
    "n = 8  # number of energy levels in system\n",
    "\n",
    "# Create states\n",
    "one = State(L = 2, S = 0, m = -2, w = 0, label = 1)\n",
    "two = State(L = 2, S = 0, m = -1, w = 0, label = 2)\n",
    "three = State(L = 2, S = 0, m = 0, w = 0, label = 3)\n",
    "four = State(L = 2, S = 0, m = 1, w = 0, label = 4)\n",
    "five = State(L = 2, S = 0, m = 2, w = 0, label = 5)\n",
    "six = State(L = 1, S = 0, m = -1, w = 0, label = 6)\n",
    "seven = State(L = 1, S = 0, m = 0, w = 0, label = 7)\n",
    "eight = State(L = 1, S = 0, m = 1, w = 0, label = 8)\n",
    "\n",
    "G = [one, two, three, four, five] # ground states\n",
    "E = [six, seven, eight] # excited states\n",
    "Q = [1, -1] # laser radiation polarisation]\n",
    "Q_decay = [1, 0, -1] # Decay channel polarisations\n",
    "tau = 24.39 # lifetime in ns/rad (take from NIST 1/A_ki as this is in rad/s)\n",
    "tau_f = 1e3 # non-radiative lifetime of rydberg upper state to other states in ns/rad\n",
    "\n",
    "laser_power = 100 # laser intensity in mW\n",
    "r_sigma = 0.75  # radial distance to 2D standard deviation in mm\n",
    "n_intensity = 3\n",
    "laser_wavelength = 452.821e-9 # wavelength of laser\n",
    "\n",
    "# Doppler detuning parameters\n",
    "doppler_width = 0.1*2*PI # doppler width in Grad/s\n",
    "delta_upper = 3*doppler_width\n",
    "delta_lower = -3*doppler_width\n",
    "doppler_steps = 3\n",
    "doppler_detunings = np.linspace(delta_lower, delta_upper, doppler_steps)\n",
    "atomic_velocity = 0  # Velocity component of atoms in direction of laser beam\n",
    "\n",
    "# Simulation parameters\n",
    "start_time = 0\n",
    "stop_time = 250 # in ns\n",
    "time_steps = 250\n",
    "time = np.linspace(start_time, stop_time, time_steps)\n",
    "\n",
    "rho0 = np.zeros((n*n, 1), dtype = complex)\n",
    "\n",
    "# Initialise ground states 1, 3, and 5 as equally populated\n",
    "row = index(one, one, n)\n",
    "rho0[row, 0] = 1/3\n",
    "row = index(three, three, n)\n",
    "rho0[row, 0] = 1/3\n",
    "row = index(five, five, n)\n",
    "rho0[row, 0] = 1/3\n",
    "\n",
    "# Set up the output data structure\n",
    "rho_output = [ [0 for j in range(len(time))] for i in range(n*n)]\n",
    "\n",
    "# print(\"Initial condition density matrix rho(t = 0): \")\n",
    "# print(rho0)"
   ]
  },
  {
   "cell_type": "code",
   "execution_count": null,
   "metadata": {},
   "outputs": [
    {
     "data": {
      "image/png": "[encoded data removed]",
      "text/latex": [
       "$\\displaystyle \\dot{\\rho}_{11} = i \\rho_{16} \\Omega{\\left(6,1,1 \\right)} - i \\rho_{61} \\Omega{\\left(6,1,1 \\right)} + \\frac{0.6 \\rho_{66}}{\\tau}$"
      ],
      "text/plain": [
       "                                            0.6⋅ρ₆₆\n",
       "ρ̇₁₁ = ⅈ⋅ρ₁₆⋅Ω(6, 1, 1) - ⅈ⋅ρ₆₁⋅Ω(6, 1, 1) + ───────\n",
       "                                               τ   "
      ]
     },
     "metadata": {},
     "output_type": "display_data"
    },
    {
     "data": {
      "image/png": "[encoded data removed]",
      "text/latex": [
       "$\\displaystyle \\dot{\\rho}_{12} = i \\rho_{17} \\Omega{\\left(7,2,1 \\right)} - i \\rho_{62} \\Omega{\\left(6,1,1 \\right)}$"
      ],
      "text/plain": [
       "ρ̇₁₂ = ⅈ⋅ρ₁₇⋅Ω(7, 2, 1) - ⅈ⋅ρ₆₂⋅Ω(6, 1, 1)"
      ]
     },
     "metadata": {},
     "output_type": "display_data"
    }
   ],
   "source": [
    "# timeEvolutionGaussianAndDopplerAveraging(n, E, G, Q, Q_decay, tau, laser_power, r_sigma, n_intensity, \n",
    "#                 laser_wavelength, doppler_width, doppler_detunings, time, rho0, rho_output, tau_f = tau_f)\n",
    "timeEvolution(n, E, G, Q, Q_decay, tau, laser_power, laser_wavelength, time, rho0, rho_output, \n",
    "              tau_f = tau_f, pretty_print_eq = True)"
   ]
  },
  {
   "cell_type": "code",
   "execution_count": null,
   "metadata": {},
   "outputs": [],
   "source": [
    "fig_upper = go.Figure(data = go.Scatter(x = time,\n",
    "                                 y = rho_output[index(six, six, n)],\n",
    "                                 mode = 'markers',\n",
    "                                    name = \"Rho_66 (Upper State)\",\n",
    "                                    marker = dict(\n",
    "                                color = 'red',\n",
    "                                symbol = 'x',\n",
    "                            )))\n",
    "\n",
    "fig_upper.add_trace(go.Scatter(x = time,\n",
    "                                 y = rho_output[index(seven, seven, n)],\n",
    "                                 mode = 'lines',\n",
    "                                    name = \"Rho_77(Upper State)\",\n",
    "                                    marker = dict(\n",
    "                                color = 'blue',\n",
    "                                symbol = 'square',\n",
    "                           )))\n",
    "fig_upper.add_trace(go.Scatter(x = time,\n",
    "                                 y = rho_output[index(eight, eight, n)],\n",
    "                                 mode = 'lines',\n",
    "                                    name = \"Rho_88(Upper State)\",\n",
    "                                    marker = dict(\n",
    "                                color = 'green',\n",
    "                                symbol = 'circle',\n",
    "                           )))\n",
    "\n",
    "fig_upper.update_layout(title = \"Upper Atomic Populations: J = 2 to J = 1 Rydberg Ca, P = 100 mW, σ+ & σ-, 100ns Lifetime, 100 MHz Doppler Width\",\n",
    "                 xaxis_title = \"Time (ns)\",\n",
    "                 yaxis_title = \"Population\",\n",
    "                font = dict(\n",
    "                    size = 11))\n",
    "fig_upper.show()"
   ]
  }
 ],
 "metadata": {
  "kernelspec": {
   "display_name": "Python 3",
   "language": "python",
   "name": "python3"
  },
  "language_info": {
   "codemirror_mode": {
    "name": "ipython",
    "version": 3
   },
   "file_extension": ".py",
   "mimetype": "text/x-python",
   "name": "python",
   "nbconvert_exporter": "python",
   "pygments_lexer": "ipython3",
   "version": "3.7.5"
  }
 },
 "nbformat": 4,
 "nbformat_minor": 4
}
