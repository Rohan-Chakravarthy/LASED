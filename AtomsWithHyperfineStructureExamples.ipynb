{
 "cells": [
  {
   "cell_type": "markdown",
   "metadata": {},
   "source": [
    "# Atoms with Hyperfine Structure Examples\n",
    "\n",
    "For atoms with hyperfine structure the nuclear spin `I` is no longer zero so there is coupling between the nuclear magnetic moment of the atom and the angular momentum of the electron cloud. This gives the atom hyperfine stucture.\n",
    "\n",
    "Aims:\n",
    "* Model Sodium transition (see Farrell 1988 paper - https://doi.org/10.1103/PhysRevA.37.4240)\n",
    "* Model Mercury transitions\n",
    "* Model Rubidium transitions\n",
    "* Model Caesium transitions"
   ]
  },
  {
   "cell_type": "code",
   "execution_count": 1,
   "metadata": {},
   "outputs": [],
   "source": [
    "%run \"base-LASED/LASED/laser_atom_system.py\"\n",
    "%run \"base-LASED/LASED/time_evolution.py\"\n",
    "\n",
    "import plotly.graph_objects as go"
   ]
  },
  {
   "cell_type": "markdown",
   "metadata": {},
   "source": [
    "## Including Hyperfine Structure\n",
    "\n",
    "Hyperfine splitting of atomic energy levels is from the coupling of the nuclear-spin (iso-spin) I with the sum of the state's spin S and orbiatl angular momentum L. This results in a total angular momentum F:\n",
    "\n",
    "$$\n",
    "F = I + J = I + L + S\n",
    "$$\n",
    "\n",
    "If an atom has non-zero nuclear spin then the projection of the electron's angular momentum is $m_F$. This results in a different coupling between states (different dipole operator matrix element which couple two states together). The coupling between ground state |g> with angular momentum |F', m$_F$> and excited state |e> with angular momentum |F, m$_F$> is:\n",
    "\n",
    "$$\n",
    "C^q_{eg} = (-1)^{Q+F+F'+J+J'+I+L+S-m_F+1}\\sqrt{(2F+1)(2F'+1)(2J+1)(2J'+1)(2L+1)}\\begin{pmatrix} F & 1 & F' \\\\ -m_F & q &m_F'\\end{pmatrix}\\begin{Bmatrix}J & F & I \\\\ J' & L' & 1\\end{Bmatrix}\\begin{Bmatrix}L & J & S \\\\ J' & L' & 1\\end{Bmatrix}\n",
    "$$\n",
    "\n",
    "where q is the polarisation of the laser radiation: -1 if $\\sigma+$, +1 if $\\sigma-$, and 0 if $\\pi$ and Q is -1 if q is equal to 1.\n"
   ]
  },
  {
   "cell_type": "markdown",
   "metadata": {},
   "source": [
    "## Modelling Sodium\n",
    "\n",
    "In Farrell's 1988 paper the orange Sodium D$_2$ line was modelled, specifically the 3$^2$S$_{1/2}$ (F' = 2) to the 3$^2$P$_{3/2}$ (F = 3,2,1) transition. See [Farrell's paper ](https://doi.org/10.1103/PhysRevA.37.4240) for the atomic level diagram and information about the hyperfine structure modelling. Farrell also compares the QED approach to the semi-classical (SC) model and shows that the SC model agrees with the QED model at low intensities but the approaches diverge at higher intensities.\n",
    "\n",
    "The data for the Sodium D line can be found [here](https://steck.us/alkalidata/sodiumnumbers.1.6.pdf). "
   ]
  },
  {
   "cell_type": "code",
   "execution_count": 8,
   "metadata": {},
   "outputs": [
    {
     "name": "stdout",
     "output_type": "stream",
     "text": [
      "1 - 0.577350269189626*sqrt(3)\n"
     ]
    }
   ],
   "source": [
    "one = State(L = 0, S = 1/2, I = 3/2, m = -1, w = 0, label = 1)\n",
    "Jp = 0\n",
    "Lp = 0\n",
    "Fp = 0\n",
    "J = 1\n",
    "F = 1\n",
    "I = 0\n",
    "\n",
    "wig = wigner_6j(J, F, I, Jp, Lp, 1)\n",
    "factor = np.sqrt((2*Fp+1)*(2*F+1))\n",
    "print(1-wig*factor)"
   ]
  }
 ],
 "metadata": {
  "kernelspec": {
   "display_name": "Python 3",
   "language": "python",
   "name": "python3"
  },
  "language_info": {
   "codemirror_mode": {
    "name": "ipython",
    "version": 3
   },
   "file_extension": ".py",
   "mimetype": "text/x-python",
   "name": "python",
   "nbconvert_exporter": "python",
   "pygments_lexer": "ipython3",
   "version": "3.7.5"
  }
 },
 "nbformat": 4,
 "nbformat_minor": 4
}
