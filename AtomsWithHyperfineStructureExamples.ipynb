{
 "cells": [
  {
   "cell_type": "markdown",
   "metadata": {},
   "source": [
    "# Atoms with Hyperfine Structure Examples\n",
    "\n",
    "For atoms with hyperfine structure the nuclear spin `I` is no longer zero so there is coupling between the nuclear magnetic moment of the atom and the angular momentum of the electron cloud. This gives the atom hyperfine stucture.\n",
    "\n",
    "Aims:\n",
    "* Model Sodium transition (see Farrell 1988 paper - https://doi.org/10.1103/PhysRevA.37.4240\n",
    "* Model Mercury transitions\n",
    "* Model Rubidium transitions\n",
    "* Model Caesium transitions"
   ]
  },
  {
   "cell_type": "code",
   "execution_count": 3,
   "metadata": {},
   "outputs": [],
   "source": [
    "%run \"base-LASED/LASED/laser_atom_system.py\"\n",
    "%run \"base-LASED/LASED/rotation.py\"\n",
    "%run \"base-LASED/LASED/time_evolution.py\"\n",
    "\n",
    "import plotly.graph_objects as go"
   ]
  },
  {
   "cell_type": "code",
   "execution_count": 5,
   "metadata": {},
   "outputs": [],
   "source": [
    "one = State(L = 0, S = 1/2, I = 3/2, m = -1, w = 0, label = 1)"
   ]
  }
 ],
 "metadata": {
  "kernelspec": {
   "display_name": "Python 3",
   "language": "python",
   "name": "python3"
  },
  "language_info": {
   "codemirror_mode": {
    "name": "ipython",
    "version": 3
   },
   "file_extension": ".py",
   "mimetype": "text/x-python",
   "name": "python",
   "nbconvert_exporter": "python",
   "pygments_lexer": "ipython3",
   "version": "3.7.5"
  }
 },
 "nbformat": 4,
 "nbformat_minor": 4
}
