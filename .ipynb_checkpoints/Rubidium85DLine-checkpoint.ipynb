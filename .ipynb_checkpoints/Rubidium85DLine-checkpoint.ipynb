{
 "cells": [
  {
   "cell_type": "markdown",
   "id": "3cceddc1-c441-4619-82b1-c3dc6eda9575",
   "metadata": {},
   "source": [
    "# Rubidium-85 D Line"
   ]
  },
  {
   "cell_type": "markdown",
   "id": "b007003a-d794-418b-9183-12018aad50a6",
   "metadata": {},
   "source": [
    "Rubidium is a heavy atom with hyperfine structure. Modelling of the Rb<sup>85</sup> D line is shown in this notebook using the `LASED` library. The calculations will be compared with J.Pursehouse's PhD thesis as he modelled the same system."
   ]
  },
  {
   "cell_type": "code",
   "execution_count": 1,
   "id": "d6b9dd6b-a3da-4e03-b7cd-1befb1e37474",
   "metadata": {
    "tags": []
   },
   "outputs": [],
   "source": [
    "%run \"base-LASED/LASED/laser_atom_system.py\"\n",
    "%run \"base-LASED/LASED/time_evolution.py\"\n",
    "%run \"base-LASED/LASED/generate_sub_states.py\"\n",
    "\n",
    "import plotly.graph_objects as go\n",
    "import time"
   ]
  },
  {
   "cell_type": "markdown",
   "id": "78cec1f1-3624-4c3a-b766-5bfdf9cb0a28",
   "metadata": {},
   "source": [
    "The data for Rubidium can be accessed [here](https://ethos.bl.uk/OrderDetails.do?uin=uk.bl.ethos.740344). The 5$^2$S$_{1/2}$ to the 5$^2$P$_{3/2}$ transition will be modelled here with F' = 3 to the F = 4 level as the resonant transition and all other terms will be detuned from this resonance."
   ]
  },
  {
   "cell_type": "code",
   "execution_count": null,
   "id": "e869e6c7-28b7-4f7f-83b9-140929a0e9e3",
   "metadata": {},
   "outputs": [],
   "source": [
    "# 3^2S_{1/2} -> 3^2P_{3/2}\n",
    "wavelength_rb = 780e-9  # Wavelength in nm\n",
    "w_e = te.angularFreq(wavelength_rb)\n",
    "tau_rb = 25.97 # in ns\n",
    "\n",
    "I_ = 3/2  # Isospin for sodium \n",
    "\n",
    "# Energy Splittings\n",
    "w1 = 1.77*2*PI # Splitting of 3^2S_{1/2}(F = 1) - (F = 2) in Grad/s\n",
    "w2 = 0.0158*2*PI  # Splitting between 3^2P_{3/2} (F = 0) and F = 1 in Grad/s\n",
    "w3 = 0.0355*2*PI  # Splitting between 3^2P_{3/2} (F = 1) and F = 2 in Grad/s\n",
    "w4 = 0.0595*2*PI  # Splitting between 3^2P_{3/2} (F = 2) and F = 3 in Grad/s\n",
    "\n",
    "# Detunings\n",
    "w_Fp1 = -1*w1\n",
    "w_F0 = w_e-(w4+w3+w2)\n",
    "w_F1 = w_e-(w4+w3)\n",
    "w_F2 = w_e-w4\n",
    "w_F3 = w_e\n",
    "\n",
    "# Model \n",
    "# # 3^2S_{1/2} F' = 1\n",
    "# s1 = State(label = 1, w = 0, m = -1, L = 0, S = 1/2, I = I_Na, F = 1)\n",
    "Fp1 = generateSubStates(label_from = 1, w = w_Fp1, L = 0, S = 1/2, I = I_Na, F = 1)\n",
    "\n",
    "# # 3^2S_{1/2} F' = 2\n",
    "Fp2 = generateSubStates(label_from = 4, w = 0, L = 0, S = 1/2, I = I_Na, F = 2)\n",
    "\n",
    "# # 3^2P_{3/2} F = 0\n",
    "# s9 = State(label = 9, w = w_F0, m = 0, L = 1, S = 1/2, I = I_Na, F = 0)\n",
    "F0 = generateSubStates(label_from = 9, w = w_F0, L = 1, S = 1/2, I = I_Na, F = 0)\n",
    "\n",
    "\n",
    "# # # 3^2P_{3/2} F = 1\n",
    "F1 = generateSubStates(label_from = 10, w = w_F1, L = 1, S = 1/2, I = I_Na, F = 1)\n",
    "# s10 = State(label = 10, w = w_F1, m = -1, L = 1, S = 1/2, I = I_Na, F = 1)\n",
    "\n",
    "\n",
    "# # # 3^2P_{3/2} F = 2 \n",
    "F2 = generateSubStates(label_from = 13, w = w_F2, L = 1, S = 1/2, I = I_Na, F = 2)\n",
    "# s13 = State(label = 13, w = w_F2, m = -2, L = 1, S = 1/2, I = I_Na, F = 2)\n",
    "\n",
    "\n",
    "# # 3^2P_{3/2} F = 3\n",
    "F3 = generateSubStates(label_from = 18, w = w_F3, L = 1, S = 1/2, I = I_Na, F = 3)\n",
    "\n",
    "G_na = Fp1 + Fp2\n",
    "E_na = F0 + F1 + F2 + F3\n",
    "\n",
    "# Laser parameters\n",
    "intensity_rb = 20 # mW/mm^-2\n",
    "Q_na = [0]\n",
    "Q_decay = [1, 0, -1]\n",
    "\n",
    "# Simulation parameters\n",
    "start_time = 0\n",
    "stop_time = 500 # in ns\n",
    "time_steps = 501\n",
    "time_na = np.linspace(start_time, stop_time, time_steps)"
   ]
  }
 ],
 "metadata": {
  "kernelspec": {
   "display_name": "Python 3",
   "language": "python",
   "name": "python3"
  },
  "language_info": {
   "codemirror_mode": {
    "name": "ipython",
    "version": 3
   },
   "file_extension": ".py",
   "mimetype": "text/x-python",
   "name": "python",
   "nbconvert_exporter": "python",
   "pygments_lexer": "ipython3",
   "version": "3.8.8"
  }
 },
 "nbformat": 4,
 "nbformat_minor": 5
}
