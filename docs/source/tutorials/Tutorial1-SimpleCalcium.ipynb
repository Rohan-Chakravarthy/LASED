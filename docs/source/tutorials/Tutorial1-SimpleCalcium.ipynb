{
 "cells": [
  {
   "cell_type": "markdown",
   "id": "31887d5c-ec77-430e-84f9-05c6f009c604",
   "metadata": {},
   "source": [
    "# Tutorial 1: Simple Calcium"
   ]
  },
  {
   "cell_type": "markdown",
   "id": "39f47609-c01e-4e92-9cfb-a482688860de",
   "metadata": {},
   "source": [
    "The system of calcium's ground state excited to its first excited state with an on-resonance laser is one of the simplest systems to model as there is only a ground S-state and an excited P-state with no hyperfine structure. We can verify results already published by [Murray 2003](https://iopscience.iop.org/article/10.1088/0953-4075/36/24/011/meta) by using the `LASED` package. In this paper the transition between the ground S-state and the first excited singlet P-state is modelled with the laser on-resonance and 200 MHz & 500 MHz detuned from resonance."
   ]
  },
  {
   "cell_type": "markdown",
   "id": "881c8806-4a41-4907-b6b2-a6bb53d95c99",
   "metadata": {},
   "source": [
    "First, we'll set up the states. A diagram of the system we are going to model is seen below. The ground S-state is represented by one sub-state lebelled as $|1\\rangle$ and the excited P-state is represented by three sub-states labelled as $|2\\rangle$, $|3\\rangle$, and $|4\\rangle$. \n",
    "\n",
    "The numbers indicate the labelling I have given them. It is convention to label the sub-states in your system by labelling the lowest in energy state first. The sub-state with the lowest $m$ value is labelled as $|1\\rangle$ and then the 2nd lowest $m$ value as $|2\\rangle$ etc. until you run out of sub-states. Then, the next highest in energy state is labelled.\n",
    "\n",
    "The wavelength of the difference in energy between these two states is also shown as 422.8 nm. "
   ]
  },
  {
   "cell_type": "code",
   "execution_count": 1,
   "id": "063736a6-8e58-4d0a-8091-2ba03ac2367b",
   "metadata": {},
   "outputs": [
    {
     "data": {
      "image/jpeg": "[encoded data removed]",
      "text/plain": [
       "<IPython.core.display.Image object>"
      ]
     },
     "execution_count": 1,
     "metadata": {},
     "output_type": "execute_result"
    }
   ],
   "source": [
    "from IPython.display import Image\n",
    "Image(filename = \"../../../LevelDiagrams/Calcium.jpg\")"
   ]
  },
  {
   "cell_type": "markdown",
   "id": "f88683c3-4256-438f-9b91-006eb00eed06",
   "metadata": {},
   "source": [
    "Now, we'll import the `LASED` library and a plotting library. I use `Plotly` to plot all the figures here but any plotting library can be used."
   ]
  },
  {
   "cell_type": "code",
   "execution_count": 2,
   "id": "5b2c360e-4b39-498b-8f68-9f8dcb36b7a7",
   "metadata": {},
   "outputs": [
    {
     "data": {
      "text/html": [
       "        <script type=\"text/javascript\">\n",
       "        window.PlotlyConfig = {MathJaxConfig: 'local'};\n",
       "        if (window.MathJax) {MathJax.Hub.Config({SVG: {font: \"STIX-Web\"}});}\n",
       "        if (typeof require !== 'undefined') {\n",
       "        require.undef(\"plotly\");\n",
       "        requirejs.config({\n",
       "            paths: {\n",
       "                'plotly': ['https://cdn.plot.ly/plotly-2.2.0.min']\n",
       "            }\n",
       "        });\n",
       "        require(['plotly'], function(Plotly) {\n",
       "            window._Plotly = Plotly;\n",
       "        });\n",
       "        }\n",
       "        </script>\n",
       "        "
      ]
     },
     "metadata": {},
     "output_type": "display_data"
    }
   ],
   "source": [
    "import LASED as las\n",
    "\n",
    "import plotly.graph_objects as go  # For plotting\n",
    "import plotly.offline as plo  # To render offline plots for exporting this notebook to html\n",
    "import time  # For seeing how quickly the time evolution is calculated\n",
    "import numpy as np\n",
    "\n",
    "plo.init_notebook_mode(connected=True)  # IGNORE: For plotly rendering offline images"
   ]
  },
  {
   "cell_type": "markdown",
   "id": "89111dd6-071d-451e-a912-d5f200b88d11",
   "metadata": {},
   "source": [
    "## Setting up the System\n",
    "\n",
    "With LASED you can declare atomic sub-states using the `State` object. These states are used to declare a `LaserAtomSystem` which can then be used to calculate the time evolution of the system.\n",
    "\n",
    "First, we must declare the system's variables: wavelength of the transition, lifetime of the excited state, isospin, etc. \n",
    "\n",
    "**Note**: LASED has a timescale of nanoseconds so all times will be input in nanoseconds. If I want a lifetime of 4.6e-9 s then I have to input 4.6 into my `LaserAtomSystem` object."
   ]
  },
  {
   "cell_type": "code",
   "execution_count": 3,
   "id": "0242b5fa-6458-4411-8671-073deccf0262",
   "metadata": {},
   "outputs": [],
   "source": [
    "wavelength_ca = 422.8e-9  # wavelength of Ca transition in metres\n",
    "tau_ca = 4.6 # lifetime in nanoseconds\n",
    "I_ca = 0  # Isospin of calcium"
   ]
  },
  {
   "cell_type": "markdown",
   "id": "fd8b5cba-14a3-4981-9257-986c0ae12e6f",
   "metadata": {},
   "source": [
    "Create the `State` objects by providing the `label` of the sub-state with the convention as above. **The system may not be modelled correctly if you do not stick to this labelling convention**.\n",
    "\n",
    "Each sub-state must have a relative angular frequency `w` associated with it. This angular frequency is related to the energy as usual $E = \\hbar w$. All frequencies should be in gigaradians per second. The energies are _relative_ so you just have to set a zero point and then all other sub-states have energies relative to this point. I have set the zero-point as the energy of the ground sub-state.\n",
    "\n",
    "Each sub-state must be labelled with its corresponding quantum numbers: orbital angular momentum `L`, spin `S`, projection of total angular momentum `m`. The isospin `I` is assumed to be zero if not specified. The total angular momentum (without isospin) can be specified with keyword `J` and is calculated as `J=L+S` if not specified. The total angular momentum with isospin can be specified with keyword `F` and if not specifed is calculated as `F=J+I`.\n",
    "\n",
    "To create the ground or excited state you must insert each sub-state in an ordered list starting with the smallest labelled state to the highest labelled state. "
   ]
  },
  {
   "cell_type": "code",
   "execution_count": 4,
   "id": "48b0e2ce-10a6-4f4a-8dd5-05a6e2812185",
   "metadata": {},
   "outputs": [
    {
     "name": "stdout",
     "output_type": "stream",
     "text": [
      "State(label = 3, w = 4455183.460995396, m = 0, L = 1, J = 1, I = 0, F = 1)\n"
     ]
    }
   ],
   "source": [
    "# Calculate angular frequency of the transition\n",
    "w_e = las.angularFreq(wavelength_ca)  # Converted to angular frequency in Grad/s\n",
    "\n",
    "# Create states\n",
    "s1 = las.State(label = 1, w = 0, m = 0, L = 0, S = 0)\n",
    "s2 = las.State(label = 2, w = w_e, m = -1, L = 1, S = 0)\n",
    "s3 = las.State(label = 3, w = w_e, m = 0, L = 1, S = 0)\n",
    "s4 = las.State(label = 4, w = w_e, m = 1, L = 1, S = 0)\n",
    "print(s3)\n",
    "\n",
    "# Create ground and excited states list\n",
    "G_ca = [s1]\n",
    "E_ca = [s2, s3, s4]"
   ]
  },
  {
   "cell_type": "markdown",
   "id": "7f4c347f-2a43-481e-9378-e14b57eec355",
   "metadata": {},
   "source": [
    "Declare the laser parameters. The intensity of the laser `laser_intensity` must be in u nits of mW/mm$^2$. \n",
    "\n",
    "The polarisation of the laser is defined by keyword `Q` and is either right-hand circular ($\\sigma^+$) with a +1, left-hand circular ($\\sigma^-$) with a -1, and linear ($\\pi$) polarisation with the polarisation axis defined along the axis with a 0 (angle of polarisation of zero degrees). `Q` is defined as a list of any of these three values. \n",
    "\n",
    "The `detuning` of the laser away from resonance can be specified as well. If no detuning is given then the laser is assumed to be on-resonance i.e. `detuning = 0`\n",
    "\n",
    "**Note on using more than one polarisation**: If more than one value is in the list then the laser is defined as having simulataneous polarisations of the same laser acting upon the atom. This can be possible if working in the natural frame when the laser is travelling along the direction of the quantisation axis and the polarisation is linear in the collision frame. When working in this natural frame `Q = [-1, 1]`. You must normalise the Rabi frequencies if you do this by a normalisation constant by giving the `LaserAtomSystem` an attribute called `rabi_scaling`. In this case of two simultaneous Rabi frequencies, the correct time evolution would be scaled by `1/np.sqrt(2)`. If `n` simultaneous polarisations are used then it must be scaled by `1/np.sqrt(n)`. You must also apply the `rabi_factors` attribute as the simultaneous combination of LHC and RHC Rabi frequencies is only equal to a linear exciation if the total Rabi frequency is $1/\\sqrt(2)(\\Omega^{-1}-\\Omega^{+1})$ so the RHC Rabi frequency must be multiplied by -1. This is achieved by setting the `rabi_factors` attribute to `rabi_factors = [1, -1]` if using a `Q` as stated above. Each element of `Q` is multiplied by the corresponding element in `rabi_factors`."
   ]
  },
  {
   "cell_type": "code",
   "execution_count": 5,
   "id": "ad004f8d-2c39-4f17-8522-19eab493dfce",
   "metadata": {},
   "outputs": [],
   "source": [
    "intensity_ca = 100 # mW/mm^-2\n",
    "Q_ca = [0]\n",
    "detuning = 0.2*2*np.pi  # detuning here is 200 MHz in Grad/s\n",
    "detuning2 = 0.5*2*np.pi  # detuning here is 500 MHz in Grad/s"
   ]
  },
  {
   "cell_type": "markdown",
   "id": "7754e7d0-65a5-4f2d-9128-88172c578bca",
   "metadata": {},
   "source": [
    "The `time` over which the simulation run must be sepcified. It must be specified with a list with every discrete time step (in nanoseconds) in it. Numpy's `linspace` is handy for this task."
   ]
  },
  {
   "cell_type": "code",
   "execution_count": 6,
   "id": "1529b4eb-9985-4998-b252-42b388993549",
   "metadata": {},
   "outputs": [],
   "source": [
    "# Simulation parameters\n",
    "start_time = 0\n",
    "stop_time = 50 # in ns\n",
    "time_steps = 501\n",
    "time_ca = np.linspace(start_time, stop_time, time_steps)"
   ]
  },
  {
   "cell_type": "markdown",
   "id": "da0204ec-8572-44e9-97c1-696e099b0252",
   "metadata": {},
   "source": [
    "Create a `LaserAtomSystem` object by using the variables stated above. Three system's are created here for different detunings. "
   ]
  },
  {
   "cell_type": "code",
   "execution_count": 7,
   "id": "7caa8672-390b-49dc-9ef5-1deb497843e3",
   "metadata": {},
   "outputs": [],
   "source": [
    "calcium_system = las.LaserAtomSystem(E_ca, G_ca, tau_ca, Q_ca, wavelength_ca, \n",
    "                                 laser_intensity = intensity_ca)\n",
    "\n",
    "calcium_system200MHzdetuned = las.LaserAtomSystem(E_ca, G_ca, tau_ca, Q_ca, wavelength_ca, \n",
    "                                 laser_intensity = intensity_ca)\n",
    "calcium_system500MHzdetuned = las.LaserAtomSystem(E_ca, G_ca, tau_ca, Q_ca, wavelength_ca, \n",
    "                                 laser_intensity = intensity_ca)"
   ]
  },
  {
   "cell_type": "markdown",
   "id": "d944391f-93b7-465e-a71b-bb848713a3f7",
   "metadata": {},
   "source": [
    "## Time Evolution of the System"
   ]
  },
  {
   "cell_type": "markdown",
   "id": "36023492-ac03-4d47-933e-4f9baa484104",
   "metadata": {},
   "source": [
    "Perform a `timeEvolution` of each system. The `pretty_print_eq` keyword is used here to print out the system's equations of motion using `Sympy`. There are many other keywords which can be used with `timeEvolution` including averaging over the doppler profile of the atoms, averaging the Gaussian laser beam profile, and numerically printing the equations.\n",
    "\n",
    "I have just timed this piece of code to see how long it takes.\n",
    "\n",
    "**Note**: And initial density matrix can be specified at t = 0 to evolve. If none is stated then all ground sub-states are populated equally with no coherence between sub-states."
   ]
  },
  {
   "cell_type": "code",
   "execution_count": 8,
   "id": "5170fe49-7fac-44aa-97fd-dca3ffbc5c0e",
   "metadata": {},
   "outputs": [
    {
     "name": "stdout",
     "output_type": "stream",
     "text": [
      "Populating ground states equally as the initial condition.\n"
     ]
    },
    {
     "data": {
      "image/png": "[encoded data removed]",
      "text/latex": [
       "$\\displaystyle \\dot{\\rho}_{11} = i \\rho_{13} \\Omega{\\left(3,1,0 \\right)} + \\frac{1.0 \\rho_{22}}{\\tau} - i \\rho_{31} \\Omega{\\left(3,1,0 \\right)} + \\frac{1.0 \\rho_{33}}{\\tau} + \\frac{1.0 \\rho_{44}}{\\tau}$"
      ],
      "text/plain": [
       "                         1.0⋅ρ₂₂                      1.0⋅ρ₃₃   1.0⋅ρ₄₄\n",
       "ρ̇₁₁ = ⅈ⋅ρ₁₃⋅Ω(3, 1, 0) + ─────── - ⅈ⋅ρ₃₁⋅Ω(3, 1, 0) + ─────── + ───────\n",
       "                            τ                            τ         τ   "
      ]
     },
     "metadata": {},
     "output_type": "display_data"
    },
    {
     "data": {
      "image/png": "[encoded data removed]",
      "text/latex": [
       "$\\displaystyle \\dot{\\rho}_{22} = - \\frac{\\rho_{22}}{\\tau}$"
      ],
      "text/plain": [
       "      -ρ₂₂ \n",
       "ρ̇₂₂ = ─────\n",
       "        τ  "
      ]
     },
     "metadata": {},
     "output_type": "display_data"
    },
    {
     "data": {
      "image/png": "[encoded data removed]",
      "text/latex": [
       "$\\displaystyle \\dot{\\rho}_{23} = i \\rho_{23} \\Omega{\\left(3,1,0 \\right)} - \\frac{\\rho_{23}}{\\tau}$"
      ],
      "text/plain": [
       "                         ρ₂₃\n",
       "ρ̇₂₃ = ⅈ⋅ρ₂₃⋅Ω(3, 1, 0) - ───\n",
       "                          τ "
      ]
     },
     "metadata": {},
     "output_type": "display_data"
    },
    {
     "data": {
      "image/png": "[encoded data removed]",
      "text/latex": [
       "$\\displaystyle \\dot{\\rho}_{24} = - \\frac{\\rho_{24}}{\\tau}$"
      ],
      "text/plain": [
       "      -ρ₂₄ \n",
       "ρ̇₂₄ = ─────\n",
       "        τ  "
      ]
     },
     "metadata": {},
     "output_type": "display_data"
    },
    {
     "data": {
      "image/png": "[encoded data removed]",
      "text/latex": [
       "$\\displaystyle \\dot{\\rho}_{32} = - i \\rho_{12} \\Omega{\\left(3,1,0 \\right)} - \\frac{\\rho_{32}}{\\tau}$"
      ],
      "text/plain": [
       "                          ρ₃₂\n",
       "ρ̇₃₂ = -ⅈ⋅ρ₁₂⋅Ω(3, 1, 0) - ───\n",
       "                           τ "
      ]
     },
     "metadata": {},
     "output_type": "display_data"
    },
    {
     "data": {
      "image/png": "[encoded data removed]",
      "text/latex": [
       "$\\displaystyle \\dot{\\rho}_{33} = - i \\rho_{13} \\Omega{\\left(3,1,0 \\right)} + i \\rho_{33} \\Omega{\\left(3,1,0 \\right)} - \\frac{\\rho_{33}}{\\tau}$"
      ],
      "text/plain": [
       "                                             ρ₃₃\n",
       "ρ̇₃₃ = -ⅈ⋅ρ₁₃⋅Ω(3, 1, 0) + ⅈ⋅ρ₃₃⋅Ω(3, 1, 0) - ───\n",
       "                                              τ "
      ]
     },
     "metadata": {},
     "output_type": "display_data"
    },
    {
     "data": {
      "image/png": "[encoded data removed]",
      "text/latex": [
       "$\\displaystyle \\dot{\\rho}_{34} = - i \\rho_{14} \\Omega{\\left(3,1,0 \\right)} - \\frac{\\rho_{34}}{\\tau}$"
      ],
      "text/plain": [
       "                          ρ₃₄\n",
       "ρ̇₃₄ = -ⅈ⋅ρ₁₄⋅Ω(3, 1, 0) - ───\n",
       "                           τ "
      ]
     },
     "metadata": {},
     "output_type": "display_data"
    },
    {
     "data": {
      "image/png": "[encoded data removed]",
      "text/latex": [
       "$\\displaystyle \\dot{\\rho}_{42} = - \\frac{\\rho_{42}}{\\tau}$"
      ],
      "text/plain": [
       "      -ρ₄₂ \n",
       "ρ̇₄₂ = ─────\n",
       "        τ  "
      ]
     },
     "metadata": {},
     "output_type": "display_data"
    },
    {
     "data": {
      "image/png": "[encoded data removed]",
      "text/latex": [
       "$\\displaystyle \\dot{\\rho}_{43} = i \\rho_{43} \\Omega{\\left(3,1,0 \\right)} - \\frac{\\rho_{43}}{\\tau}$"
      ],
      "text/plain": [
       "                         ρ₄₃\n",
       "ρ̇₄₃ = ⅈ⋅ρ₄₃⋅Ω(3, 1, 0) - ───\n",
       "                          τ "
      ]
     },
     "metadata": {},
     "output_type": "display_data"
    },
    {
     "data": {
      "image/png": "[encoded data removed]",
      "text/latex": [
       "$\\displaystyle \\dot{\\rho}_{44} = - \\frac{\\rho_{44}}{\\tau}$"
      ],
      "text/plain": [
       "      -ρ₄₄ \n",
       "ρ̇₄₄ = ─────\n",
       "        τ  "
      ]
     },
     "metadata": {},
     "output_type": "display_data"
    },
    {
     "data": {
      "image/png": "[encoded data removed]",
      "text/latex": [
       "$\\displaystyle \\dot{\\rho}_{12} = - \\frac{\\rho_{12}}{2 \\tau} - i \\rho_{32} \\Omega{\\left(3,1,0 \\right)}$"
      ],
      "text/plain": [
       "        ρ₁₂                   \n",
       "ρ̇₁₂ = - ─── - ⅈ⋅ρ₃₂⋅Ω(3, 1, 0)\n",
       "        2⋅τ                   "
      ]
     },
     "metadata": {},
     "output_type": "display_data"
    },
    {
     "data": {
      "image/png": "[encoded data removed]",
      "text/latex": [
       "$\\displaystyle \\dot{\\rho}_{13} = - i \\rho_{11} \\Omega{\\left(3,1,0 \\right)} - \\frac{\\rho_{13}}{2 \\tau} - i \\rho_{33} \\Omega{\\left(3,1,0 \\right)}$"
      ],
      "text/plain": [
       "                          ρ₁₃                   \n",
       "ρ̇₁₃ = -ⅈ⋅ρ₁₁⋅Ω(3, 1, 0) - ─── - ⅈ⋅ρ₃₃⋅Ω(3, 1, 0)\n",
       "                          2⋅τ                   "
      ]
     },
     "metadata": {},
     "output_type": "display_data"
    },
    {
     "data": {
      "image/png": "[encoded data removed]",
      "text/latex": [
       "$\\displaystyle \\dot{\\rho}_{14} = - \\frac{\\rho_{14}}{2 \\tau} - i \\rho_{34} \\Omega{\\left(3,1,0 \\right)}$"
      ],
      "text/plain": [
       "        ρ₁₄                   \n",
       "ρ̇₁₄ = - ─── - ⅈ⋅ρ₃₄⋅Ω(3, 1, 0)\n",
       "        2⋅τ                   "
      ]
     },
     "metadata": {},
     "output_type": "display_data"
    },
    {
     "data": {
      "image/png": "[encoded data removed]",
      "text/latex": [
       "$\\displaystyle \\dot{\\rho}_{21} = - \\frac{\\rho_{21}}{2 \\tau} + i \\rho_{23} \\Omega{\\left(3,1,0 \\right)}$"
      ],
      "text/plain": [
       "        ρ₂₁                   \n",
       "ρ̇₂₁ = - ─── + ⅈ⋅ρ₂₃⋅Ω(3, 1, 0)\n",
       "        2⋅τ                   "
      ]
     },
     "metadata": {},
     "output_type": "display_data"
    },
    {
     "data": {
      "image/png": "[encoded data removed]",
      "text/latex": [
       "$\\displaystyle \\dot{\\rho}_{31} = i \\rho_{11} \\Omega{\\left(3,1,0 \\right)} - \\frac{\\rho_{31}}{2 \\tau} + i \\rho_{33} \\Omega{\\left(3,1,0 \\right)}$"
      ],
      "text/plain": [
       "                         ρ₃₁                   \n",
       "ρ̇₃₁ = ⅈ⋅ρ₁₁⋅Ω(3, 1, 0) - ─── + ⅈ⋅ρ₃₃⋅Ω(3, 1, 0)\n",
       "                         2⋅τ                   "
      ]
     },
     "metadata": {},
     "output_type": "display_data"
    },
    {
     "data": {
      "image/png": "[encoded data removed]",
      "text/latex": [
       "$\\displaystyle \\dot{\\rho}_{41} = - \\frac{\\rho_{41}}{2 \\tau} + i \\rho_{43} \\Omega{\\left(3,1,0 \\right)}$"
      ],
      "text/plain": [
       "        ρ₄₁                   \n",
       "ρ̇₄₁ = - ─── + ⅈ⋅ρ₄₃⋅Ω(3, 1, 0)\n",
       "        2⋅τ                   "
      ]
     },
     "metadata": {},
     "output_type": "display_data"
    },
    {
     "name": "stdout",
     "output_type": "stream",
     "text": [
      "Populating ground states equally as the initial condition.\n",
      "Populating ground states equally as the initial condition.\n",
      "The code finished in 7.6810 seconds\n"
     ]
    }
   ],
   "source": [
    "tic = time.perf_counter()\n",
    "calcium_system.timeEvolution(time_ca,\n",
    "                             pretty_print_eq = True)\n",
    "calcium_system200MHzdetuned.timeEvolution(time_ca,\n",
    "                             detuning = detuning)\n",
    "calcium_system500MHzdetuned.timeEvolution(time_ca,\n",
    "                             detuning = detuning2)\n",
    "toc = time.perf_counter()\n",
    "print(f\"The code finished in {toc-tic:0.4f} seconds\")"
   ]
  },
  {
   "cell_type": "markdown",
   "id": "ca26d7f8-be5b-4cd4-804d-7da70380e9e1",
   "metadata": {},
   "source": [
    "## Saving and Plotting\n",
    "\n",
    "We can save the data to a .csv file and now plot the data generated to see the time evolution.\n",
    "\n",
    "To save to csv use the `saveToCSV(\"filename\")` function on your `LaserAtomSystem` object. "
   ]
  },
  {
   "cell_type": "code",
   "execution_count": 9,
   "id": "e8d46db6-ae71-4c9a-82a4-4a82b1de03d5",
   "metadata": {},
   "outputs": [],
   "source": [
    "calcium_system.saveToCSV(\"SavedData/SimpleCalciumNoDetuning.csv\")\n",
    "calcium_system200MHzdetuned.saveToCSV(\"SavedData/SimpleCalcium200MHzDetuning.csv\")\n",
    "calcium_system500MHzdetuned.saveToCSV(\"SavedData/SimpleCalcium200MHzDetuning.csv\")"
   ]
  },
  {
   "cell_type": "markdown",
   "id": "4b8516fb-8531-41ea-a6f4-7a5ea289d45e",
   "metadata": {},
   "source": [
    "Now, we can plot the evolution of Calcium with no detuning, 200 MHz detuning, and 500 MHz detuning.\n",
    "\n",
    "To access the density matrix elements over the time evolution use the function `Rho_t(e, g)` on the `LaserAtomSystem`. This gives a list of the element $\\rho_{eg}$ for each interval in `time`. Each element of the density matrix is `complex` so the real part is taken by using the `abs()` function. "
   ]
  },
  {
   "cell_type": "code",
   "execution_count": 13,
   "id": "2ff3be06-5f8e-4c7e-9505-3bc7ea0a8bc3",
   "metadata": {},
   "outputs": [
    {
     "data": {
      "application/vnd.jupyter.widget-view+json": {
       "model_id": "13d996c6e2f74e31b8a24433281212ed",
       "version_major": 2,
       "version_minor": 0
      },
      "text/plain": [
       "FigureWidget({\n",
       "    'data': [{'marker': {'color': 'red', 'symbol': 'circle'},\n",
       "              'mode': 'lines',\n",
       "  …"
      ]
     },
     "metadata": {},
     "output_type": "display_data"
    }
   ],
   "source": [
    "rho_33 = [abs(rho) for rho in calcium_system.Rho_t(s3, s3)]\n",
    "rho_33_200MHzdetuned = [abs(rho) for rho in calcium_system200MHzdetuned.Rho_t(s3, s3)]\n",
    "rho_33_500MHzdetuned = [abs(rho) for rho in calcium_system500MHzdetuned.Rho_t(s3, s3)]\n",
    "\n",
    "fig_ca = go.Figure()\n",
    "fig_ca.add_trace(go.Scatter(x = time_ca,\n",
    "                                 y = rho_33,\n",
    "                                 mode = 'lines',\n",
    "                                    name = \"Rho_33 (δ = 0 MHz)\",\n",
    "                                    marker = dict(\n",
    "                                color = 'red',\n",
    "                                symbol = 'circle',\n",
    "                            )))\n",
    "fig_ca.add_trace(go.Scatter(x = time_ca,\n",
    "                                 y = rho_33_200MHzdetuned,\n",
    "                                 mode = 'lines',\n",
    "                                    name = \"Rho_33 (δ = 200 MHz)\",\n",
    "                                    marker = dict(\n",
    "                                color = 'blue',\n",
    "                                symbol = 'circle',\n",
    "                            )))\n",
    "fig_ca.add_trace(go.Scatter(x = time_ca,\n",
    "                                 y = rho_33_500MHzdetuned,\n",
    "                                 mode = 'lines',\n",
    "                                    name = \"Rho_33 (δ = 500 MHz)\",\n",
    "                                    marker = dict(\n",
    "                                color = 'green',\n",
    "                                symbol = 'circle',\n",
    "                            )))\n",
    "\n",
    "fig_ca.update_layout(title = \"Calcium: Time Evolution of Upper State Population with Linear Excitation: I = 100 mW\",\n",
    "                 xaxis_title = \"Time (ns)\",\n",
    "                 yaxis_title = \"Population\",\n",
    "                font = dict(\n",
    "                    size = 11))\n",
    "\n",
    "go.FigureWidget(fig_ca)"
   ]
  }
 ],
 "metadata": {
  "kernelspec": {
   "display_name": "Python 3",
   "language": "python",
   "name": "python3"
  },
  "language_info": {
   "codemirror_mode": {
    "name": "ipython",
    "version": 3
   },
   "file_extension": ".py",
   "mimetype": "text/x-python",
   "name": "python",
   "nbconvert_exporter": "python",
   "pygments_lexer": "ipython3",
   "version": "3.8.8"
  }
 },
 "nbformat": 4,
 "nbformat_minor": 5
}
